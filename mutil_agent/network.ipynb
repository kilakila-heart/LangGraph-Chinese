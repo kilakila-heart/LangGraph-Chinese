{
 "cells": [
  {
   "cell_type": "code",
   "id": "671b669f-7c7a-4691-84f7-de2ddace34a7",
   "metadata": {
    "ExecuteTime": {
     "end_time": "2025-09-22T02:03:44.430120Z",
     "start_time": "2025-09-22T02:03:38.008404Z"
    }
   },
   "source": [
    "import os\n",
    "from typing import Literal\n",
    "\n",
    "from dotenv import load_dotenv\n",
    "from langchain_openai import ChatOpenAI\n",
    "from langgraph.graph import StateGraph, MessagesState, START, END\n",
    "from langgraph.types import Command\n",
    "\n",
    "# 初始化 LLM\n",
    "load_dotenv()\n",
    "\n",
    "# --- 初始化模型，并绑定工具 ---\n",
    "os.environ['DEEPSEEK_API_KEY'] = os.getenv(\"DEEPSEEK_API_KEY\")\n",
    "llm = ChatOpenAI(\n",
    "    model=\"deepseek-chat\",  # DeepSeek的聊天模型\n",
    "    temperature=0,\n",
    "    openai_api_key=os.getenv(\"DEEPSEEK_API_KEY\"),  # 从DeepSeek获取的API key\n",
    "    openai_api_base=\"https://api.deepseek.com/v1\"  # DeepSeek的Base URL\n",
    ")\n"
   ],
   "outputs": [],
   "execution_count": 2
  },
  {
   "cell_type": "code",
   "id": "9ac84195-57a1-481b-87cf-966d535e294b",
   "metadata": {
    "ExecuteTime": {
     "end_time": "2025-09-22T02:03:44.493231Z",
     "start_time": "2025-09-22T02:03:44.465218Z"
    }
   },
   "source": [
    "# 定义两个 agent 的行为函数\n",
    "def agent_A(state: MessagesState) -> Command[Literal[\"agent_B\", END]]:\n",
    "    msgs = state[\"messages\"]\n",
    "    last = msgs[-1].content if msgs else \"\"\n",
    "    if \"数学\" in last:\n",
    "        # 转到 agent_B\n",
    "        return Command(goto=\"agent_B\", update={})\n",
    "    else:\n",
    "        resp = llm.invoke(msgs + [(\"assistant\", \"Agent A 回答: “非数学问题已处理”\")])\n",
    "        # 更新 state.messages\n",
    "        return Command(\n",
    "            goto=END,\n",
    "            update={\"messages\": state[\"messages\"] + [{\"role\":\"assistant\", \"content\": resp.content}]}\n",
    "        )\n",
    "\n",
    "def agent_B(state: MessagesState) -> Command[Literal[\"agent_A\", END]]:\n",
    "    msgs = state[\"messages\"]\n",
    "    resp = llm.invoke(msgs + [(\"assistant\", \"Agent B 回答: “这是数学问题的解答部分”\")])\n",
    "    return Command(\n",
    "        goto=\"agent_A\",\n",
    "        update={\"messages\": state[\"messages\"] + [{\"role\":\"assistant\", \"content\": resp.content}]}\n",
    "    )"
   ],
   "outputs": [],
   "execution_count": 3
  },
  {
   "cell_type": "code",
   "id": "21865fc1-c04e-48ad-8d44-a913aaf7fc58",
   "metadata": {
    "ExecuteTime": {
     "end_time": "2025-09-22T02:03:44.572530Z",
     "start_time": "2025-09-22T02:03:44.528218Z"
    }
   },
   "source": [
    "# 构建 StateGraph\n",
    "graph_builder = StateGraph(MessagesState)\n",
    "\n",
    "# 添加节点\n",
    "graph_builder.add_node(\"agent_A\", agent_A)\n",
    "graph_builder.add_node(\"agent_B\", agent_B)\n",
    "\n",
    "# 设置入口\n",
    "# 方法一: set entry point\n",
    "graph_builder.set_entry_point(\"agent_A\")\n",
    "\n",
    "# 添加边（控制流）\n",
    "graph_builder.add_edge(\"agent_A\", \"agent_B\")\n",
    "graph_builder.add_edge(\"agent_A\", END)\n",
    "graph_builder.add_edge(\"agent_B\", \"agent_A\")\n",
    "\n",
    "# 编译 graph\n",
    "compiled_graph = graph_builder.compile()\n"
   ],
   "outputs": [],
   "execution_count": 4
  },
  {
   "cell_type": "code",
   "id": "6fc12bf3-ea42-4956-a1cb-4967dad1a6ab",
   "metadata": {
    "ExecuteTime": {
     "end_time": "2025-09-22T02:04:56.558263Z",
     "start_time": "2025-09-22T02:04:13.522402Z"
    }
   },
   "source": [
    "from IPython.display import Image, display\n",
    "\n",
    "display(Image(compiled_graph.get_graph(xray=True).draw_mermaid_png(max_retries=5, retry_delay=2.0)))"
   ],
   "outputs": [
    {
     "ename": "ValueError",
     "evalue": "Failed to reach https://mermaid.ink/ API while trying to render your graph. Status code: 502.\n\nTo resolve this issue:\n1. Check your internet connection and try again\n2. Try with higher retry settings: `draw_mermaid_png(..., max_retries=5, retry_delay=2.0)`\n3. Use the Pyppeteer rendering method which will render your graph locally in a browser: `draw_mermaid_png(..., draw_method=MermaidDrawMethod.PYPPETEER)`",
     "output_type": "error",
     "traceback": [
      "\u001B[1;31m---------------------------------------------------------------------------\u001B[0m",
      "\u001B[1;31mValueError\u001B[0m                                Traceback (most recent call last)",
      "Cell \u001B[1;32mIn[6], line 3\u001B[0m\n\u001B[0;32m      1\u001B[0m \u001B[38;5;28;01mfrom\u001B[39;00m\u001B[38;5;250m \u001B[39m\u001B[38;5;21;01mIPython\u001B[39;00m\u001B[38;5;21;01m.\u001B[39;00m\u001B[38;5;21;01mdisplay\u001B[39;00m\u001B[38;5;250m \u001B[39m\u001B[38;5;28;01mimport\u001B[39;00m Image, display\n\u001B[1;32m----> 3\u001B[0m display(Image(\u001B[43mcompiled_graph\u001B[49m\u001B[38;5;241;43m.\u001B[39;49m\u001B[43mget_graph\u001B[49m\u001B[43m(\u001B[49m\u001B[43mxray\u001B[49m\u001B[38;5;241;43m=\u001B[39;49m\u001B[38;5;28;43;01mTrue\u001B[39;49;00m\u001B[43m)\u001B[49m\u001B[38;5;241;43m.\u001B[39;49m\u001B[43mdraw_mermaid_png\u001B[49m\u001B[43m(\u001B[49m\u001B[43mmax_retries\u001B[49m\u001B[38;5;241;43m=\u001B[39;49m\u001B[38;5;241;43m5\u001B[39;49m\u001B[43m,\u001B[49m\u001B[43m \u001B[49m\u001B[43mretry_delay\u001B[49m\u001B[38;5;241;43m=\u001B[39;49m\u001B[38;5;241;43m2.0\u001B[39;49m\u001B[43m)\u001B[49m))\n",
      "File \u001B[1;32mE:\\software\\install_software\\anaconda\\envs\\langchain-debug\\lib\\site-packages\\langchain_core\\runnables\\graph.py:695\u001B[0m, in \u001B[0;36mGraph.draw_mermaid_png\u001B[1;34m(self, curve_style, node_colors, wrap_label_n_words, output_file_path, draw_method, background_color, padding, max_retries, retry_delay, frontmatter_config)\u001B[0m\n\u001B[0;32m    687\u001B[0m \u001B[38;5;28;01mfrom\u001B[39;00m\u001B[38;5;250m \u001B[39m\u001B[38;5;21;01mlangchain_core\u001B[39;00m\u001B[38;5;21;01m.\u001B[39;00m\u001B[38;5;21;01mrunnables\u001B[39;00m\u001B[38;5;21;01m.\u001B[39;00m\u001B[38;5;21;01mgraph_mermaid\u001B[39;00m\u001B[38;5;250m \u001B[39m\u001B[38;5;28;01mimport\u001B[39;00m draw_mermaid_png\n\u001B[0;32m    689\u001B[0m mermaid_syntax \u001B[38;5;241m=\u001B[39m \u001B[38;5;28mself\u001B[39m\u001B[38;5;241m.\u001B[39mdraw_mermaid(\n\u001B[0;32m    690\u001B[0m     curve_style\u001B[38;5;241m=\u001B[39mcurve_style,\n\u001B[0;32m    691\u001B[0m     node_colors\u001B[38;5;241m=\u001B[39mnode_colors,\n\u001B[0;32m    692\u001B[0m     wrap_label_n_words\u001B[38;5;241m=\u001B[39mwrap_label_n_words,\n\u001B[0;32m    693\u001B[0m     frontmatter_config\u001B[38;5;241m=\u001B[39mfrontmatter_config,\n\u001B[0;32m    694\u001B[0m )\n\u001B[1;32m--> 695\u001B[0m \u001B[38;5;28;01mreturn\u001B[39;00m \u001B[43mdraw_mermaid_png\u001B[49m\u001B[43m(\u001B[49m\n\u001B[0;32m    696\u001B[0m \u001B[43m    \u001B[49m\u001B[43mmermaid_syntax\u001B[49m\u001B[38;5;241;43m=\u001B[39;49m\u001B[43mmermaid_syntax\u001B[49m\u001B[43m,\u001B[49m\n\u001B[0;32m    697\u001B[0m \u001B[43m    \u001B[49m\u001B[43moutput_file_path\u001B[49m\u001B[38;5;241;43m=\u001B[39;49m\u001B[43moutput_file_path\u001B[49m\u001B[43m,\u001B[49m\n\u001B[0;32m    698\u001B[0m \u001B[43m    \u001B[49m\u001B[43mdraw_method\u001B[49m\u001B[38;5;241;43m=\u001B[39;49m\u001B[43mdraw_method\u001B[49m\u001B[43m,\u001B[49m\n\u001B[0;32m    699\u001B[0m \u001B[43m    \u001B[49m\u001B[43mbackground_color\u001B[49m\u001B[38;5;241;43m=\u001B[39;49m\u001B[43mbackground_color\u001B[49m\u001B[43m,\u001B[49m\n\u001B[0;32m    700\u001B[0m \u001B[43m    \u001B[49m\u001B[43mpadding\u001B[49m\u001B[38;5;241;43m=\u001B[39;49m\u001B[43mpadding\u001B[49m\u001B[43m,\u001B[49m\n\u001B[0;32m    701\u001B[0m \u001B[43m    \u001B[49m\u001B[43mmax_retries\u001B[49m\u001B[38;5;241;43m=\u001B[39;49m\u001B[43mmax_retries\u001B[49m\u001B[43m,\u001B[49m\n\u001B[0;32m    702\u001B[0m \u001B[43m    \u001B[49m\u001B[43mretry_delay\u001B[49m\u001B[38;5;241;43m=\u001B[39;49m\u001B[43mretry_delay\u001B[49m\u001B[43m,\u001B[49m\n\u001B[0;32m    703\u001B[0m \u001B[43m\u001B[49m\u001B[43m)\u001B[49m\n",
      "File \u001B[1;32mE:\\software\\install_software\\anaconda\\envs\\langchain-debug\\lib\\site-packages\\langchain_core\\runnables\\graph_mermaid.py:294\u001B[0m, in \u001B[0;36mdraw_mermaid_png\u001B[1;34m(mermaid_syntax, output_file_path, draw_method, background_color, padding, max_retries, retry_delay)\u001B[0m\n\u001B[0;32m    288\u001B[0m     img_bytes \u001B[38;5;241m=\u001B[39m asyncio\u001B[38;5;241m.\u001B[39mrun(\n\u001B[0;32m    289\u001B[0m         _render_mermaid_using_pyppeteer(\n\u001B[0;32m    290\u001B[0m             mermaid_syntax, output_file_path, background_color, padding\n\u001B[0;32m    291\u001B[0m         )\n\u001B[0;32m    292\u001B[0m     )\n\u001B[0;32m    293\u001B[0m \u001B[38;5;28;01melif\u001B[39;00m draw_method \u001B[38;5;241m==\u001B[39m MermaidDrawMethod\u001B[38;5;241m.\u001B[39mAPI:\n\u001B[1;32m--> 294\u001B[0m     img_bytes \u001B[38;5;241m=\u001B[39m \u001B[43m_render_mermaid_using_api\u001B[49m\u001B[43m(\u001B[49m\n\u001B[0;32m    295\u001B[0m \u001B[43m        \u001B[49m\u001B[43mmermaid_syntax\u001B[49m\u001B[43m,\u001B[49m\n\u001B[0;32m    296\u001B[0m \u001B[43m        \u001B[49m\u001B[43moutput_file_path\u001B[49m\u001B[38;5;241;43m=\u001B[39;49m\u001B[43moutput_file_path\u001B[49m\u001B[43m,\u001B[49m\n\u001B[0;32m    297\u001B[0m \u001B[43m        \u001B[49m\u001B[43mbackground_color\u001B[49m\u001B[38;5;241;43m=\u001B[39;49m\u001B[43mbackground_color\u001B[49m\u001B[43m,\u001B[49m\n\u001B[0;32m    298\u001B[0m \u001B[43m        \u001B[49m\u001B[43mmax_retries\u001B[49m\u001B[38;5;241;43m=\u001B[39;49m\u001B[43mmax_retries\u001B[49m\u001B[43m,\u001B[49m\n\u001B[0;32m    299\u001B[0m \u001B[43m        \u001B[49m\u001B[43mretry_delay\u001B[49m\u001B[38;5;241;43m=\u001B[39;49m\u001B[43mretry_delay\u001B[49m\u001B[43m,\u001B[49m\n\u001B[0;32m    300\u001B[0m \u001B[43m    \u001B[49m\u001B[43m)\u001B[49m\n\u001B[0;32m    301\u001B[0m \u001B[38;5;28;01melse\u001B[39;00m:\n\u001B[0;32m    302\u001B[0m     supported_methods \u001B[38;5;241m=\u001B[39m \u001B[38;5;124m\"\u001B[39m\u001B[38;5;124m, \u001B[39m\u001B[38;5;124m\"\u001B[39m\u001B[38;5;241m.\u001B[39mjoin([m\u001B[38;5;241m.\u001B[39mvalue \u001B[38;5;28;01mfor\u001B[39;00m m \u001B[38;5;129;01min\u001B[39;00m MermaidDrawMethod])\n",
      "File \u001B[1;32mE:\\software\\install_software\\anaconda\\envs\\langchain-debug\\lib\\site-packages\\langchain_core\\runnables\\graph_mermaid.py:451\u001B[0m, in \u001B[0;36m_render_mermaid_using_api\u001B[1;34m(mermaid_syntax, output_file_path, background_color, file_type, max_retries, retry_delay)\u001B[0m\n\u001B[0;32m    446\u001B[0m     \u001B[38;5;66;03m# For other status codes, fail immediately\u001B[39;00m\n\u001B[0;32m    447\u001B[0m     msg \u001B[38;5;241m=\u001B[39m (\n\u001B[0;32m    448\u001B[0m         \u001B[38;5;124m\"\u001B[39m\u001B[38;5;124mFailed to reach https://mermaid.ink/ API while trying to render \u001B[39m\u001B[38;5;124m\"\u001B[39m\n\u001B[0;32m    449\u001B[0m         \u001B[38;5;124mf\u001B[39m\u001B[38;5;124m\"\u001B[39m\u001B[38;5;124myour graph. Status code: \u001B[39m\u001B[38;5;132;01m{\u001B[39;00mresponse\u001B[38;5;241m.\u001B[39mstatus_code\u001B[38;5;132;01m}\u001B[39;00m\u001B[38;5;124m.\u001B[39m\u001B[38;5;130;01m\\n\u001B[39;00m\u001B[38;5;130;01m\\n\u001B[39;00m\u001B[38;5;124m\"\u001B[39m\n\u001B[0;32m    450\u001B[0m     ) \u001B[38;5;241m+\u001B[39m error_msg_suffix\n\u001B[1;32m--> 451\u001B[0m     \u001B[38;5;28;01mraise\u001B[39;00m \u001B[38;5;167;01mValueError\u001B[39;00m(msg)\n\u001B[0;32m    453\u001B[0m \u001B[38;5;28;01mexcept\u001B[39;00m (requests\u001B[38;5;241m.\u001B[39mRequestException, requests\u001B[38;5;241m.\u001B[39mTimeout) \u001B[38;5;28;01mas\u001B[39;00m e:\n\u001B[0;32m    454\u001B[0m     \u001B[38;5;28;01mif\u001B[39;00m attempt \u001B[38;5;241m<\u001B[39m max_retries:\n\u001B[0;32m    455\u001B[0m         \u001B[38;5;66;03m# Exponential backoff with jitter\u001B[39;00m\n",
      "\u001B[1;31mValueError\u001B[0m: Failed to reach https://mermaid.ink/ API while trying to render your graph. Status code: 502.\n\nTo resolve this issue:\n1. Check your internet connection and try again\n2. Try with higher retry settings: `draw_mermaid_png(..., max_retries=5, retry_delay=2.0)`\n3. Use the Pyppeteer rendering method which will render your graph locally in a browser: `draw_mermaid_png(..., draw_method=MermaidDrawMethod.PYPPETEER)`"
     ]
    }
   ],
   "execution_count": 6
  },
  {
   "cell_type": "code",
   "execution_count": null,
   "id": "dedc0948-78c9-472d-a5ab-02f6c7026884",
   "metadata": {},
   "outputs": [],
   "source": []
  }
 ],
 "metadata": {
  "kernelspec": {
   "display_name": "Python 3 (ipykernel)",
   "language": "python",
   "name": "python3"
  },
  "language_info": {
   "codemirror_mode": {
    "name": "ipython",
    "version": 3
   },
   "file_extension": ".py",
   "mimetype": "text/x-python",
   "name": "python",
   "nbconvert_exporter": "python",
   "pygments_lexer": "ipython3",
   "version": "3.9.18"
  }
 },
 "nbformat": 4,
 "nbformat_minor": 5
}
