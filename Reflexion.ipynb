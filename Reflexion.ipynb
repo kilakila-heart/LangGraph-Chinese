{
 "cells": [
  {
   "cell_type": "code",
   "id": "bc4db1e2-037e-4597-8f93-244f66e80d05",
   "metadata": {
    "ExecuteTime": {
     "end_time": "2025-08-25T12:19:03.981789Z",
     "start_time": "2025-08-25T12:19:03.952766Z"
    }
   },
   "source": [
    "import getpass\n",
    "import os\n",
    "from dotenv import load_dotenv\n",
    "\n",
    "load_dotenv()\n",
    "\n",
    "def _set_if_undefined(var: str):\n",
    "    if not os.environ.get(var):\n",
    "        os.environ[var] = getpass.getpass(f\"{var}=\")\n",
    "\n",
    "\n",
    "os.environ[\"LANGCHAIN_TRACING_V2\"] = \"true\"\n",
    "os.environ[\"LANGCHAIN_PROJECT\"] = \"ReWOO\"\n",
    "os.environ[\"TAVILY_API_KEY\"]=os.getenv(\"TAVILY_API_KEY\")\n",
    "os.environ[\"LANGCHAIN_API_KEY\"]=os.getenv(\"LANGCHAIN_API_KEY\")"
   ],
   "outputs": [],
   "execution_count": 1
  },
  {
   "cell_type": "code",
   "id": "bc376163-a505-400e-8e03-d727d06ad988",
   "metadata": {
    "ExecuteTime": {
     "end_time": "2025-08-25T12:19:04.046786Z",
     "start_time": "2025-08-25T12:19:04.026793Z"
    }
   },
   "source": [
    "from typing import List, TypedDict\n",
    "\n",
    "\n",
    "class ReWOO(TypedDict):\n",
    "    task: str\n",
    "    plan_string: str\n",
    "    steps: List\n",
    "    results: dict\n",
    "    result: str"
   ],
   "outputs": [],
   "execution_count": 2
  },
  {
   "cell_type": "code",
   "id": "7df27fa0-05e7-4b25-9bdc-e7515b37819c",
   "metadata": {
    "ExecuteTime": {
     "end_time": "2025-08-25T12:19:11.089325Z",
     "start_time": "2025-08-25T12:19:04.438341Z"
    }
   },
   "source": [
    "from langchain_openai import ChatOpenAI\n",
    "\n",
    "import os\n",
    "\n",
    "os.environ['DEEPSEEK_API_KEY'] = os.getenv(\"DEEPSEEK_API_KEY\")\n",
    "model = ChatOpenAI(\n",
    "    model=\"deepseek-chat\",  # DeepSeek的聊天模型\n",
    "    temperature=0,\n",
    "    openai_api_key=os.getenv(\"DEEPSEEK_API_KEY\"),  # 从DeepSeek获取的API key\n",
    "    openai_api_base=\"https://api.deepseek.com/v1\"  # DeepSeek的Base URL\n",
    ")"
   ],
   "outputs": [],
   "execution_count": 3
  },
  {
   "cell_type": "code",
   "id": "53f52b92-5396-4730-b24e-8877bc0d9f7e",
   "metadata": {
    "ExecuteTime": {
     "end_time": "2025-08-25T12:20:44.623150Z",
     "start_time": "2025-08-25T12:20:44.608471Z"
    }
   },
   "source": [
    "prompt = \"\"\"For the following task, make plans that can solve the problem step by step. For each plan, indicate \\\n",
    "which external tool together with tool input to retrieve evidence. You can store the evidence into a \\\n",
    "variable #E that can be called by later tools. (Plan, #E1, Plan, #E2, Plan, ...)\n",
    "\n",
    "Tools can be one of the following:\n",
    "(1) Google[input]: Worker that searches results from Google. Useful when you need to find short\n",
    "and succinct answers about a specific topic. The input should be a search query.\n",
    "(2) LLM[input]: A pretrained LLM like yourself. Useful when you need to act with general\n",
    "world knowledge and common sense. Prioritize it when you are confident in solving the problem\n",
    "yourself. Input can be any instruction.\n",
    "\n",
    "For example,\n",
    "Task: Thomas, Toby, and Rebecca worked a total of 157 hours in one week. Thomas worked x\n",
    "hours. Toby worked 10 hours less than twice what Thomas worked, and Rebecca worked 8 hours\n",
    "less than Toby. How many hours did Rebecca work?\n",
    "Plan: Given Thomas worked x hours, translate the problem into algebraic expressions and solve\n",
    "with Wolfram Alpha. #E1 = WolframAlpha[Solve x + (2x − 10) + ((2x − 10) − 8) = 157]\n",
    "Plan: Find out the number of hours Thomas worked. #E2 = LLM[What is x, given #E1]\n",
    "Plan: Calculate the number of hours Rebecca worked. #E3 = Calculator[(2 ∗ #E2 − 10) − 8]\n",
    "\n",
    "Begin! \n",
    "Describe your plans with rich details. Each Plan should be followed by only one #E.\n",
    "\n",
    "Task: {task}\"\"\""
   ],
   "outputs": [],
   "execution_count": 4
  },
  {
   "cell_type": "code",
   "id": "630984e3-21fd-4ab2-87c7-e719b38d081f",
   "metadata": {
    "ExecuteTime": {
     "end_time": "2025-08-25T12:20:57.945575Z",
     "start_time": "2025-08-25T12:20:45.312358Z"
    }
   },
   "source": [
    "task = \"2024年澳大利亚网球公开赛冠军的家乡是哪里?\"\n",
    "\n",
    "# In[7]:\n",
    "\n",
    "\n",
    "result = model.invoke(prompt.format(task=task))"
   ],
   "outputs": [],
   "execution_count": 5
  },
  {
   "cell_type": "code",
   "id": "e7f88e5d-9719-401b-8ebe-550d4216771a",
   "metadata": {
    "ExecuteTime": {
     "end_time": "2025-08-25T12:21:18.852374Z",
     "start_time": "2025-08-25T12:21:18.832378Z"
    }
   },
   "source": [
    "print(result.content)"
   ],
   "outputs": [
    {
     "name": "stdout",
     "output_type": "stream",
     "text": [
      "Plan: 首先，我需要查找2024年澳大利亚网球公开赛的冠军是谁。由于这是一个具体的体育赛事结果，我将使用Google搜索来获取准确信息。 #E1 = Google[2024年澳大利亚网球公开赛冠军]\n",
      "\n",
      "Plan: 根据#E1的结果，我将确认冠军的姓名。然后，我需要查找这位冠军的家乡信息。由于家乡可能涉及个人背景，我将再次使用Google搜索来获取详细信息。 #E2 = Google[2024年澳网冠军 家乡]\n",
      "\n",
      "Plan: 如果#E2提供了明确的家乡信息，我将直接输出答案。如果信息不完整或需要进一步验证，我将使用LLM来辅助整合和确认信息，确保准确性。 #E3 = LLM[根据#E1和#E2，确认2024年澳网冠军的家乡是哪里？]\n"
     ]
    }
   ],
   "execution_count": 6
  },
  {
   "cell_type": "code",
   "id": "a4d4d085-6e7b-433c-98e7-a6f2d4560ff5",
   "metadata": {
    "ExecuteTime": {
     "end_time": "2025-08-25T12:21:55.987708Z",
     "start_time": "2025-08-25T12:21:55.902671Z"
    }
   },
   "source": [
    "import re\n",
    "\n",
    "from langchain_core.prompts import ChatPromptTemplate\n",
    "\n",
    "# Regex to match expressions of the form E#... = ...[...]\n",
    "regex_pattern = r\"Plan:\\s*(.+)\\s*(#E\\d+)\\s*=\\s*(\\w+)\\s*\\[([^\\]]+)\\]\"\n",
    "prompt_template = ChatPromptTemplate.from_messages([(\"user\", prompt)])\n",
    "planner = prompt_template | model\n",
    "\n",
    "\n",
    "def get_plan(state: ReWOO):\n",
    "    task = state[\"task\"]\n",
    "    result = planner.invoke({\"task\": task})\n",
    "    # Find all matches in the sample text\n",
    "    matches = re.findall(regex_pattern, result.content)\n",
    "    return {\"steps\": matches, \"plan_string\": result.content}"
   ],
   "outputs": [],
   "execution_count": 7
  },
  {
   "cell_type": "code",
   "id": "c8fc2a00-02b6-4db4-8ac5-1116233099a4",
   "metadata": {
    "ExecuteTime": {
     "end_time": "2025-08-25T12:22:00.316320Z",
     "start_time": "2025-08-25T12:22:00.139584Z"
    }
   },
   "source": [
    "from langchain_community.tools.tavily_search import TavilySearchResults\n",
    "\n",
    "search = TavilySearchResults()"
   ],
   "outputs": [
    {
     "name": "stderr",
     "output_type": "stream",
     "text": [
      "C:\\Users\\sheng\\AppData\\Local\\Temp\\ipykernel_17492\\910133487.py:3: LangChainDeprecationWarning: The class `TavilySearchResults` was deprecated in LangChain 0.3.25 and will be removed in 1.0. An updated version of the class exists in the :class:`~langchain-tavily package and should be used instead. To use it run `pip install -U :class:`~langchain-tavily` and import as `from :class:`~langchain_tavily import TavilySearch``.\n",
      "  search = TavilySearchResults()\n"
     ]
    }
   ],
   "execution_count": 8
  },
  {
   "cell_type": "code",
   "id": "8b1f16fb-0bc5-4f6c-a81f-247b070c08b4",
   "metadata": {
    "ExecuteTime": {
     "end_time": "2025-08-25T12:22:05.191361Z",
     "start_time": "2025-08-25T12:22:05.176672Z"
    }
   },
   "source": [
    "def _get_current_task(state: ReWOO):\n",
    "    if state.get(\"results\") is None:  # 不存在时返回 None\n",
    "        return 1\n",
    "    if len(state[\"results\"]) == len(state[\"steps\"]):\n",
    "        return None\n",
    "    else:\n",
    "        return len(state[\"results\"]) + 1\n",
    "\n",
    "\n",
    "def tool_execution(state: ReWOO):\n",
    "    \"\"\"Worker node that executes the tools of a given plan.\"\"\"\n",
    "    _step = _get_current_task(state)\n",
    "    _, step_name, tool, tool_input = state[\"steps\"][_step - 1]\n",
    "    _results = state[\"results\"] or {}\n",
    "    for k, v in _results.items():\n",
    "        tool_input = tool_input.replace(k, v)\n",
    "    if tool == \"Google\":\n",
    "        result = search.invoke(tool_input)\n",
    "    elif tool == \"LLM\":\n",
    "        result = model.invoke(tool_input)\n",
    "    else:\n",
    "        raise ValueError\n",
    "    _results[step_name] = str(result)\n",
    "    return {\"results\": _results}"
   ],
   "outputs": [],
   "execution_count": 9
  },
  {
   "cell_type": "code",
   "id": "e8c22b90-6836-49f4-bcda-3ae1d094b02b",
   "metadata": {
    "ExecuteTime": {
     "end_time": "2025-08-25T12:22:24.212341Z",
     "start_time": "2025-08-25T12:22:24.202296Z"
    }
   },
   "source": [
    "solve_prompt = \"\"\"Solve the following task or problem. To solve the problem, we have made step-by-step Plan and \\\n",
    "retrieved corresponding Evidence to each Plan. Use them with caution since long evidence might \\\n",
    "contain irrelevant information.\n",
    "\n",
    "{plan}\n",
    "\n",
    "Now solve the question or task according to provided Evidence above. Respond with the answer\n",
    "directly with no extra words.\n",
    "\n",
    "Task: {task}\n",
    "Response:\"\"\""
   ],
   "outputs": [],
   "execution_count": 10
  },
  {
   "cell_type": "code",
   "id": "390501dd-b32a-45e9-9d93-f3c5cd404a5a",
   "metadata": {
    "ExecuteTime": {
     "end_time": "2025-08-25T12:22:26.654413Z",
     "start_time": "2025-08-25T12:22:26.639378Z"
    }
   },
   "source": [
    "def solve(state: ReWOO):\n",
    "    plan = \"\"\n",
    "    for _plan, step_name, tool, tool_input in state[\"steps\"]:\n",
    "        _results = state[\"results\"] or {}\n",
    "        for k, v in _results.items():\n",
    "            tool_input = tool_input.replace(k, v)\n",
    "            step_name = step_name.replace(k, v)\n",
    "        plan += f\"Plan: {_plan}\\n{step_name} = {tool}[{tool_input}]\"\n",
    "    prompt = solve_prompt.format(plan=plan, task=state[\"task\"])\n",
    "    result = model.invoke(prompt)\n",
    "    return {\"result\": result.content}"
   ],
   "outputs": [],
   "execution_count": 11
  },
  {
   "cell_type": "code",
   "id": "4baf4534-71fd-463c-9754-4748dd9228c5",
   "metadata": {
    "ExecuteTime": {
     "end_time": "2025-08-25T12:22:29.274445Z",
     "start_time": "2025-08-25T12:22:29.264403Z"
    }
   },
   "source": [
    "def _route(state):\n",
    "    _step = _get_current_task(state)\n",
    "    if _step is None:\n",
    "        # We have executed all tasks\n",
    "        return \"solve\"\n",
    "    else:\n",
    "        # We are still executing tasks, loop back to the \"tool\" node\n",
    "        return \"tool\"\n"
   ],
   "outputs": [],
   "execution_count": 12
  },
  {
   "cell_type": "code",
   "id": "768c450f-89b0-4cb8-9915-c8d7698af621",
   "metadata": {
    "ExecuteTime": {
     "end_time": "2025-08-25T12:22:53.764100Z",
     "start_time": "2025-08-25T12:22:53.614109Z"
    }
   },
   "source": [
    "\n",
    "from langgraph.graph import END, StateGraph, START\n",
    "\n",
    "graph = StateGraph(ReWOO)\n",
    "graph.add_node(\"plan\", get_plan)\n",
    "graph.add_node(\"tool\", tool_execution)\n",
    "graph.add_node(\"solve\", solve)\n",
    "graph.add_edge(\"plan\", \"tool\")\n",
    "graph.add_edge(\"solve\", END)\n",
    "graph.add_conditional_edges(\"tool\", _route)\n",
    "graph.add_edge(START, \"plan\")\n",
    "\n",
    "app = graph.compile()"
   ],
   "outputs": [],
   "execution_count": 13
  },
  {
   "cell_type": "code",
   "id": "229c3854-1d7e-4b6f-9883-22959d5b8b3a",
   "metadata": {
    "ExecuteTime": {
     "end_time": "2025-08-25T12:22:56.271636Z",
     "start_time": "2025-08-25T12:22:55.368353Z"
    }
   },
   "source": [
    "from IPython.display import Image, display\n",
    "\n",
    "display(Image(app.get_graph().draw_mermaid_png()))"
   ],
   "outputs": [
    {
     "data": {
      "image/png": "[encoded data removed]",
      "text/plain": [
       "<IPython.core.display.Image object>"
      ]
     },
     "metadata": {},
     "output_type": "display_data"
    }
   ],
   "execution_count": 14
  },
  {
   "cell_type": "code",
   "id": "60115202-0aae-40cf-baa3-608daff2e48d",
   "metadata": {
    "ExecuteTime": {
     "end_time": "2025-08-25T12:23:15.911747Z",
     "start_time": "2025-08-25T12:23:00.247585Z"
    }
   },
   "source": [
    "for s in app.stream({\"task\": task}):\n",
    "    print(s)\n",
    "    print(\"---\")"
   ],
   "outputs": [
    {
     "name": "stdout",
     "output_type": "stream",
     "text": [
      "{'plan': {'steps': [('首先，我需要找到2024年澳大利亚网球公开赛的冠军是谁。由于这是一个具体的体育赛事结果，我可以使用Google搜索来获取准确的信息。 ', '#E1', 'Google', '2024年澳大利亚网球公开赛冠军'), ('根据#E1的结果，我将得知冠军的姓名。然后，我需要查找这位冠军的家乡信息。这可能需要进一步的搜索，因为家乡信息可能不是直接包含在初始搜索结果中。 ', '#E2', 'Google', '#E1冠军的家乡'), ('如果#E2的搜索结果不够明确或详细，我可能需要使用LLM来基于已知的冠军信息推断或回忆其家乡。LLM可以提供一般性知识或上下文信息。 ', '#E3', 'LLM', '#E1冠军的出生地或家乡是哪里？'), ('最后，我将整合所有收集到的证据，确认冠军的家乡，并确保信息的准确性。如果需要，可以交叉验证不同来源的信息。 ', '#E4', 'LLM', '验证#E1冠军的家乡是#E2或#E3，并确认一致性')], 'plan_string': 'Plan: 首先，我需要找到2024年澳大利亚网球公开赛的冠军是谁。由于这是一个具体的体育赛事结果，我可以使用Google搜索来获取准确的信息。 #E1 = Google[2024年澳大利亚网球公开赛冠军]\\n\\nPlan: 根据#E1的结果，我将得知冠军的姓名。然后，我需要查找这位冠军的家乡信息。这可能需要进一步的搜索，因为家乡信息可能不是直接包含在初始搜索结果中。 #E2 = Google[#E1冠军的家乡]\\n\\nPlan: 如果#E2的搜索结果不够明确或详细，我可能需要使用LLM来基于已知的冠军信息推断或回忆其家乡。LLM可以提供一般性知识或上下文信息。 #E3 = LLM[#E1冠军的出生地或家乡是哪里？]\\n\\nPlan: 最后，我将整合所有收集到的证据，确认冠军的家乡，并确保信息的准确性。如果需要，可以交叉验证不同来源的信息。 #E4 = LLM[验证#E1冠军的家乡是#E2或#E3，并确认一致性]'}}\n",
      "---\n"
     ]
    },
    {
     "ename": "KeyError",
     "evalue": "'results'",
     "output_type": "error",
     "traceback": [
      "\u001B[1;31m---------------------------------------------------------------------------\u001B[0m",
      "\u001B[1;31mKeyError\u001B[0m                                  Traceback (most recent call last)",
      "Cell \u001B[1;32mIn[15], line 1\u001B[0m\n\u001B[1;32m----> 1\u001B[0m \u001B[38;5;28;01mfor\u001B[39;00m s \u001B[38;5;129;01min\u001B[39;00m app\u001B[38;5;241m.\u001B[39mstream({\u001B[38;5;124m\"\u001B[39m\u001B[38;5;124mtask\u001B[39m\u001B[38;5;124m\"\u001B[39m: task}):\n\u001B[0;32m      2\u001B[0m     \u001B[38;5;28mprint\u001B[39m(s)\n\u001B[0;32m      3\u001B[0m     \u001B[38;5;28mprint\u001B[39m(\u001B[38;5;124m\"\u001B[39m\u001B[38;5;124m---\u001B[39m\u001B[38;5;124m\"\u001B[39m)\n",
      "File \u001B[1;32mE:\\software\\install_software\\anaconda\\envs\\langchain-debug\\lib\\site-packages\\langgraph\\pregel\\main.py:2647\u001B[0m, in \u001B[0;36mPregel.stream\u001B[1;34m(self, input, config, context, stream_mode, print_mode, output_keys, interrupt_before, interrupt_after, durability, subgraphs, debug, **kwargs)\u001B[0m\n\u001B[0;32m   2645\u001B[0m \u001B[38;5;28;01mfor\u001B[39;00m task \u001B[38;5;129;01min\u001B[39;00m loop\u001B[38;5;241m.\u001B[39mmatch_cached_writes():\n\u001B[0;32m   2646\u001B[0m     loop\u001B[38;5;241m.\u001B[39moutput_writes(task\u001B[38;5;241m.\u001B[39mid, task\u001B[38;5;241m.\u001B[39mwrites, cached\u001B[38;5;241m=\u001B[39m\u001B[38;5;28;01mTrue\u001B[39;00m)\n\u001B[1;32m-> 2647\u001B[0m \u001B[38;5;28;01mfor\u001B[39;00m _ \u001B[38;5;129;01min\u001B[39;00m runner\u001B[38;5;241m.\u001B[39mtick(\n\u001B[0;32m   2648\u001B[0m     [t \u001B[38;5;28;01mfor\u001B[39;00m t \u001B[38;5;129;01min\u001B[39;00m loop\u001B[38;5;241m.\u001B[39mtasks\u001B[38;5;241m.\u001B[39mvalues() \u001B[38;5;28;01mif\u001B[39;00m \u001B[38;5;129;01mnot\u001B[39;00m t\u001B[38;5;241m.\u001B[39mwrites],\n\u001B[0;32m   2649\u001B[0m     timeout\u001B[38;5;241m=\u001B[39m\u001B[38;5;28mself\u001B[39m\u001B[38;5;241m.\u001B[39mstep_timeout,\n\u001B[0;32m   2650\u001B[0m     get_waiter\u001B[38;5;241m=\u001B[39mget_waiter,\n\u001B[0;32m   2651\u001B[0m     schedule_task\u001B[38;5;241m=\u001B[39mloop\u001B[38;5;241m.\u001B[39maccept_push,\n\u001B[0;32m   2652\u001B[0m ):\n\u001B[0;32m   2653\u001B[0m     \u001B[38;5;66;03m# emit output\u001B[39;00m\n\u001B[0;32m   2654\u001B[0m     \u001B[38;5;28;01myield from\u001B[39;00m _output(\n\u001B[0;32m   2655\u001B[0m         stream_mode, print_mode, subgraphs, stream\u001B[38;5;241m.\u001B[39mget, queue\u001B[38;5;241m.\u001B[39mEmpty\n\u001B[0;32m   2656\u001B[0m     )\n\u001B[0;32m   2657\u001B[0m loop\u001B[38;5;241m.\u001B[39mafter_tick()\n",
      "File \u001B[1;32mE:\\software\\install_software\\anaconda\\envs\\langchain-debug\\lib\\site-packages\\langgraph\\pregel\\_runner.py:162\u001B[0m, in \u001B[0;36mPregelRunner.tick\u001B[1;34m(self, tasks, reraise, timeout, retry_policy, get_waiter, schedule_task)\u001B[0m\n\u001B[0;32m    160\u001B[0m t \u001B[38;5;241m=\u001B[39m tasks[\u001B[38;5;241m0\u001B[39m]\n\u001B[0;32m    161\u001B[0m \u001B[38;5;28;01mtry\u001B[39;00m:\n\u001B[1;32m--> 162\u001B[0m     \u001B[43mrun_with_retry\u001B[49m\u001B[43m(\u001B[49m\n\u001B[0;32m    163\u001B[0m \u001B[43m        \u001B[49m\u001B[43mt\u001B[49m\u001B[43m,\u001B[49m\n\u001B[0;32m    164\u001B[0m \u001B[43m        \u001B[49m\u001B[43mretry_policy\u001B[49m\u001B[43m,\u001B[49m\n\u001B[0;32m    165\u001B[0m \u001B[43m        \u001B[49m\u001B[43mconfigurable\u001B[49m\u001B[38;5;241;43m=\u001B[39;49m\u001B[43m{\u001B[49m\n\u001B[0;32m    166\u001B[0m \u001B[43m            \u001B[49m\u001B[43mCONFIG_KEY_CALL\u001B[49m\u001B[43m:\u001B[49m\u001B[43m \u001B[49m\u001B[43mpartial\u001B[49m\u001B[43m(\u001B[49m\n\u001B[0;32m    167\u001B[0m \u001B[43m                \u001B[49m\u001B[43m_call\u001B[49m\u001B[43m,\u001B[49m\n\u001B[0;32m    168\u001B[0m \u001B[43m                \u001B[49m\u001B[43mweakref\u001B[49m\u001B[38;5;241;43m.\u001B[39;49m\u001B[43mref\u001B[49m\u001B[43m(\u001B[49m\u001B[43mt\u001B[49m\u001B[43m)\u001B[49m\u001B[43m,\u001B[49m\n\u001B[0;32m    169\u001B[0m \u001B[43m                \u001B[49m\u001B[43mretry_policy\u001B[49m\u001B[38;5;241;43m=\u001B[39;49m\u001B[43mretry_policy\u001B[49m\u001B[43m,\u001B[49m\n\u001B[0;32m    170\u001B[0m \u001B[43m                \u001B[49m\u001B[43mfutures\u001B[49m\u001B[38;5;241;43m=\u001B[39;49m\u001B[43mweakref\u001B[49m\u001B[38;5;241;43m.\u001B[39;49m\u001B[43mref\u001B[49m\u001B[43m(\u001B[49m\u001B[43mfutures\u001B[49m\u001B[43m)\u001B[49m\u001B[43m,\u001B[49m\n\u001B[0;32m    171\u001B[0m \u001B[43m                \u001B[49m\u001B[43mschedule_task\u001B[49m\u001B[38;5;241;43m=\u001B[39;49m\u001B[43mschedule_task\u001B[49m\u001B[43m,\u001B[49m\n\u001B[0;32m    172\u001B[0m \u001B[43m                \u001B[49m\u001B[43msubmit\u001B[49m\u001B[38;5;241;43m=\u001B[39;49m\u001B[38;5;28;43mself\u001B[39;49m\u001B[38;5;241;43m.\u001B[39;49m\u001B[43msubmit\u001B[49m\u001B[43m,\u001B[49m\n\u001B[0;32m    173\u001B[0m \u001B[43m            \u001B[49m\u001B[43m)\u001B[49m\u001B[43m,\u001B[49m\n\u001B[0;32m    174\u001B[0m \u001B[43m        \u001B[49m\u001B[43m}\u001B[49m\u001B[43m,\u001B[49m\n\u001B[0;32m    175\u001B[0m \u001B[43m    \u001B[49m\u001B[43m)\u001B[49m\n\u001B[0;32m    176\u001B[0m     \u001B[38;5;28mself\u001B[39m\u001B[38;5;241m.\u001B[39mcommit(t, \u001B[38;5;28;01mNone\u001B[39;00m)\n\u001B[0;32m    177\u001B[0m \u001B[38;5;28;01mexcept\u001B[39;00m \u001B[38;5;167;01mException\u001B[39;00m \u001B[38;5;28;01mas\u001B[39;00m exc:\n",
      "File \u001B[1;32mE:\\software\\install_software\\anaconda\\envs\\langchain-debug\\lib\\site-packages\\langgraph\\pregel\\_retry.py:42\u001B[0m, in \u001B[0;36mrun_with_retry\u001B[1;34m(task, retry_policy, configurable)\u001B[0m\n\u001B[0;32m     40\u001B[0m     task\u001B[38;5;241m.\u001B[39mwrites\u001B[38;5;241m.\u001B[39mclear()\n\u001B[0;32m     41\u001B[0m     \u001B[38;5;66;03m# run the task\u001B[39;00m\n\u001B[1;32m---> 42\u001B[0m     \u001B[38;5;28;01mreturn\u001B[39;00m \u001B[43mtask\u001B[49m\u001B[38;5;241;43m.\u001B[39;49m\u001B[43mproc\u001B[49m\u001B[38;5;241;43m.\u001B[39;49m\u001B[43minvoke\u001B[49m\u001B[43m(\u001B[49m\u001B[43mtask\u001B[49m\u001B[38;5;241;43m.\u001B[39;49m\u001B[43minput\u001B[49m\u001B[43m,\u001B[49m\u001B[43m \u001B[49m\u001B[43mconfig\u001B[49m\u001B[43m)\u001B[49m\n\u001B[0;32m     43\u001B[0m \u001B[38;5;28;01mexcept\u001B[39;00m ParentCommand \u001B[38;5;28;01mas\u001B[39;00m exc:\n\u001B[0;32m     44\u001B[0m     ns: \u001B[38;5;28mstr\u001B[39m \u001B[38;5;241m=\u001B[39m config[CONF][CONFIG_KEY_CHECKPOINT_NS]\n",
      "File \u001B[1;32mE:\\software\\install_software\\anaconda\\envs\\langchain-debug\\lib\\site-packages\\langgraph\\_internal\\_runnable.py:657\u001B[0m, in \u001B[0;36mRunnableSeq.invoke\u001B[1;34m(self, input, config, **kwargs)\u001B[0m\n\u001B[0;32m    655\u001B[0m     \u001B[38;5;66;03m# run in context\u001B[39;00m\n\u001B[0;32m    656\u001B[0m     \u001B[38;5;28;01mwith\u001B[39;00m set_config_context(config, run) \u001B[38;5;28;01mas\u001B[39;00m context:\n\u001B[1;32m--> 657\u001B[0m         \u001B[38;5;28minput\u001B[39m \u001B[38;5;241m=\u001B[39m context\u001B[38;5;241m.\u001B[39mrun(step\u001B[38;5;241m.\u001B[39minvoke, \u001B[38;5;28minput\u001B[39m, config, \u001B[38;5;241m*\u001B[39m\u001B[38;5;241m*\u001B[39mkwargs)\n\u001B[0;32m    658\u001B[0m \u001B[38;5;28;01melse\u001B[39;00m:\n\u001B[0;32m    659\u001B[0m     \u001B[38;5;28minput\u001B[39m \u001B[38;5;241m=\u001B[39m step\u001B[38;5;241m.\u001B[39minvoke(\u001B[38;5;28minput\u001B[39m, config)\n",
      "File \u001B[1;32mE:\\software\\install_software\\anaconda\\envs\\langchain-debug\\lib\\site-packages\\langgraph\\_internal\\_runnable.py:401\u001B[0m, in \u001B[0;36mRunnableCallable.invoke\u001B[1;34m(self, input, config, **kwargs)\u001B[0m\n\u001B[0;32m    399\u001B[0m         run_manager\u001B[38;5;241m.\u001B[39mon_chain_end(ret)\n\u001B[0;32m    400\u001B[0m \u001B[38;5;28;01melse\u001B[39;00m:\n\u001B[1;32m--> 401\u001B[0m     ret \u001B[38;5;241m=\u001B[39m \u001B[38;5;28mself\u001B[39m\u001B[38;5;241m.\u001B[39mfunc(\u001B[38;5;241m*\u001B[39margs, \u001B[38;5;241m*\u001B[39m\u001B[38;5;241m*\u001B[39mkwargs)\n\u001B[0;32m    402\u001B[0m \u001B[38;5;28;01mif\u001B[39;00m \u001B[38;5;28mself\u001B[39m\u001B[38;5;241m.\u001B[39mrecurse \u001B[38;5;129;01mand\u001B[39;00m \u001B[38;5;28misinstance\u001B[39m(ret, Runnable):\n\u001B[0;32m    403\u001B[0m     \u001B[38;5;28;01mreturn\u001B[39;00m ret\u001B[38;5;241m.\u001B[39minvoke(\u001B[38;5;28minput\u001B[39m, config)\n",
      "Cell \u001B[1;32mIn[9], line 14\u001B[0m, in \u001B[0;36mtool_execution\u001B[1;34m(state)\u001B[0m\n\u001B[0;32m     12\u001B[0m _step \u001B[38;5;241m=\u001B[39m _get_current_task(state)\n\u001B[0;32m     13\u001B[0m _, step_name, tool, tool_input \u001B[38;5;241m=\u001B[39m state[\u001B[38;5;124m\"\u001B[39m\u001B[38;5;124msteps\u001B[39m\u001B[38;5;124m\"\u001B[39m][_step \u001B[38;5;241m-\u001B[39m \u001B[38;5;241m1\u001B[39m]\n\u001B[1;32m---> 14\u001B[0m _results \u001B[38;5;241m=\u001B[39m \u001B[43mstate\u001B[49m\u001B[43m[\u001B[49m\u001B[38;5;124;43m\"\u001B[39;49m\u001B[38;5;124;43mresults\u001B[39;49m\u001B[38;5;124;43m\"\u001B[39;49m\u001B[43m]\u001B[49m \u001B[38;5;129;01mor\u001B[39;00m {}\n\u001B[0;32m     15\u001B[0m \u001B[38;5;28;01mfor\u001B[39;00m k, v \u001B[38;5;129;01min\u001B[39;00m _results\u001B[38;5;241m.\u001B[39mitems():\n\u001B[0;32m     16\u001B[0m     tool_input \u001B[38;5;241m=\u001B[39m tool_input\u001B[38;5;241m.\u001B[39mreplace(k, v)\n",
      "\u001B[1;31mKeyError\u001B[0m: 'results'"
     ]
    }
   ],
   "execution_count": 15
  },
  {
   "cell_type": "code",
   "execution_count": null,
   "id": "ca4e0b65-4531-4aba-8f61-fb5194ae1901",
   "metadata": {},
   "outputs": [],
   "source": []
  }
 ],
 "metadata": {
  "kernelspec": {
   "display_name": "Python 3 (ipykernel)",
   "language": "python",
   "name": "python3"
  },
  "language_info": {
   "codemirror_mode": {
    "name": "ipython",
    "version": 3
   },
   "file_extension": ".py",
   "mimetype": "text/x-python",
   "name": "python",
   "nbconvert_exporter": "python",
   "pygments_lexer": "ipython3",
   "version": "3.9.18"
  }
 },
 "nbformat": 4,
 "nbformat_minor": 5
}
